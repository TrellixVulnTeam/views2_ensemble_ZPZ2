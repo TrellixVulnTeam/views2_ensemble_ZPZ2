{
 "cells": [
  {
   "cell_type": "code",
   "execution_count": 1,
   "metadata": {},
   "outputs": [],
   "source": [
    "import logging\n",
    "import views\n",
    "logging.basicConfig(\n",
    "    level=logging.DEBUG,\n",
    "    format=views.config.LOGFMT,\n",
    ")"
   ]
  },
  {
   "cell_type": "markdown",
   "metadata": {},
   "source": [
    "# New repository workshop 2020.06.11\n",
    "\n",
    "### Before we start\n",
    "\n",
    "* Hello! I'm Frederick.\n",
    "* Audio / Video OK?\n",
    "* Please ask questions as we go.\n",
    "* Does everyone have a working copy of code and data? \n",
    "* Can you all see this notebook and follow along?\n",
    "\n",
    "## Overview\n",
    "\n",
    "* New repository, why?\n",
    "* Layout, whats in here?\n",
    "\n",
    "### Another repository?\n",
    "\n",
    "    \"Those who cannot remember the past are condemned to repeat it.\"\n",
    "\n",
    "#### The original\n",
    "First there was \n",
    "* the original ViEWS github repository. ( https://github.com/UppsalaConflictDataProgram/views/ )\n",
    "* With an old public mirror at https://github.com/UppsalaConflictDataProgram/openviews\n",
    "\n",
    "Pros/cons?\n",
    "\n",
    "* (+) Still working to churn out monthly forecasts.\n",
    "* (-) There was no package structure to this repository, no `import views`.\n",
    "* (-) Model specification a janky mess of scripts that generated paramfiles using black magic.\n",
    "* (-) Very difficult to maintain and use.\n",
    "\n",
    "#### The gitlab\n",
    "\n",
    "After the first paper publication I (frehoy) decided to create a new repository to try and structure the code and make it easier to work with while retaining the original repository for monthly forecasta production.\n",
    "It exists at https://gitlab.com/frehoy/views and is currently private, ask for an invite if you want one.\n",
    "That repository is now where all ViEWS functionality that went into the JPR 2020 paper resides.\n",
    "Just before JPR 2020 publication it will be pushed as a separate branch to https://github.com/UppsalaConflictDataProgram/openviews2\n",
    "\n",
    "* (+) Has a package that you can `import views` from\n",
    "* (+) Has a lot of cool functionality\n",
    "* (-) Relies heavily on naming conventions and passing dictionaries around.\n",
    "* (-) Has a lot of half-fininshed, in-a-hurry functionality\n",
    "* (-) Doesn't include some core database functionality\n",
    "* (-) Isn't on github under the UCDP organisation.\n",
    "\n",
    "#### This one (2)\n",
    "\n",
    "This new repository, with\n",
    "* a private version here:  https://github.com/UppsalaConflictDataProgram/views2/\n",
    "* and a public copy here: https://github.com/UppsalaConflictDataProgram/openviews2\n",
    "\n",
    "aims to fix the negatives of the gitlab repository and bring balance to the force.\n",
    "\n",
    "* 📦 Has a package that you can `import views` from.\n",
    "* 🧠 Has a clear way to go from model/ensemble development to production.\n",
    "* 👮‍♂️ Has a stricter layout.\n",
    "* 📕 Has a manual!\n",
    "* ✅ Has tests.\n",
    "* 👩‍🎨 Has a code formatter.\n",
    "* ⚠️ Has type checking.\n",
    "* 😡 Doesn't yet have all the functionality from the gitlab repository.\n",
    "* 🏗 Is a work in progress."
   ]
  },
  {
   "cell_type": "markdown",
   "metadata": {},
   "source": [
    "```\n",
    "\n",
    "\n",
    "\n",
    "\n",
    "\n",
    "\n",
    "```"
   ]
  },
  {
   "cell_type": "markdown",
   "metadata": {},
   "source": [
    "# Repository layout\n",
    "\n",
    "## / (root)\n",
    "\n",
    "* README.md, with basic installation and tooling instructions.\n",
    "* install_views2.sh, the installer for MacOS and Linux.\n",
    "* run_tools.sh for linting, testing, formatting, type checking and building documentation.\n",
    "* config.yaml \n",
    "* storage directory"
   ]
  },
  {
   "cell_type": "markdown",
   "metadata": {},
   "source": [
    "## projects\n",
    "\n",
    "* Holds one directory per project.\n",
    "* Everything that doesn't need to be imported from somewhere else belongs in a project.\n",
    "* Each project should have a README.md at its root to aid when navigating through github.\n",
    "* This workshop is a project. \n",
    "\n",
    "## docs\n",
    "\n",
    "Documentation built using [sphinx](https://www.sphinx-doc.org/en/master/usage/quickstart.html) which is still a bit of a mystery to me but extremely powerful.\n",
    "\n",
    "* Human written files go in `docs/human_source/`\n",
    "* Rebuilt and compiled to HTML by run_tools.sh . actually nicer than the .pdf and can be viewed by opening `/docs/_build/html/index.html` (SHOW!)\n",
    "* Rebuilt and compiled to .pdf (via latex) by docs/build_docs.sh (SHOW!)\n",
    "* Built documentation isn't stored in git, only the source files.\n",
    "\n",
    "## runners\n",
    "\n",
    "Everything in production usage is done via scripts, not notebooks.\n",
    "In python we distinguish between **scripts**, which are run, and **modules**, which are imported.\n",
    "\n",
    "* All the .py files under the `views/` directory are **modules** to be imported.\n",
    "* **Scripts** that are executed go in `runners/`\n",
    "\n",
    "All runners take some arguments. To see which arguments are taken do\n",
    "\n",
    "`python runners/predict.py --help` (SHOW!)\n",
    "\n",
    "## misc\n",
    "\n",
    "Misc contains the environment.yaml file. Use it to add requirements. "
   ]
  },
  {
   "cell_type": "markdown",
   "metadata": {},
   "source": [
    "```\n",
    "\n",
    "\n",
    "\n",
    "\n",
    "\n",
    "\n",
    "\n",
    "\n",
    "\n",
    "\n",
    "\n",
    "```"
   ]
  },
  {
   "cell_type": "markdown",
   "metadata": {},
   "source": [
    "## views\n",
    "\n",
    "All importable functionality lives in the views package."
   ]
  },
  {
   "cell_type": "code",
   "execution_count": 2,
   "metadata": {},
   "outputs": [],
   "source": [
    "import views"
   ]
  },
  {
   "cell_type": "markdown",
   "metadata": {},
   "source": [
    "To see avaiable documentation (from docstrings) for any object when running in jupyter simply add a question mark after it:"
   ]
  },
  {
   "cell_type": "code",
   "execution_count": 3,
   "metadata": {},
   "outputs": [
    {
     "data": {
      "text/plain": [
       "\u001b[0;31mInit signature:\u001b[0m\n",
       "\u001b[0mviews\u001b[0m\u001b[0;34m.\u001b[0m\u001b[0mPeriod\u001b[0m\u001b[0;34m(\u001b[0m\u001b[0;34m\u001b[0m\n",
       "\u001b[0;34m\u001b[0m    \u001b[0mname\u001b[0m\u001b[0;34m:\u001b[0m \u001b[0mstr\u001b[0m\u001b[0;34m,\u001b[0m\u001b[0;34m\u001b[0m\n",
       "\u001b[0;34m\u001b[0m    \u001b[0mtrain_start\u001b[0m\u001b[0;34m:\u001b[0m \u001b[0mint\u001b[0m\u001b[0;34m,\u001b[0m\u001b[0;34m\u001b[0m\n",
       "\u001b[0;34m\u001b[0m    \u001b[0mtrain_end\u001b[0m\u001b[0;34m:\u001b[0m \u001b[0mint\u001b[0m\u001b[0;34m,\u001b[0m\u001b[0;34m\u001b[0m\n",
       "\u001b[0;34m\u001b[0m    \u001b[0mpredict_start\u001b[0m\u001b[0;34m:\u001b[0m \u001b[0mint\u001b[0m\u001b[0;34m,\u001b[0m\u001b[0;34m\u001b[0m\n",
       "\u001b[0;34m\u001b[0m    \u001b[0mpredict_end\u001b[0m\u001b[0;34m:\u001b[0m \u001b[0mint\u001b[0m\u001b[0;34m,\u001b[0m\u001b[0;34m\u001b[0m\n",
       "\u001b[0;34m\u001b[0m\u001b[0;34m)\u001b[0m \u001b[0;34m->\u001b[0m \u001b[0;32mNone\u001b[0m\u001b[0;34m\u001b[0m\u001b[0;34m\u001b[0m\u001b[0m\n",
       "\u001b[0;31mDocstring:\u001b[0m      Defines a time period of training and predicting. \n",
       "\u001b[0;31mFile:\u001b[0m           ~/github/ViEWS2/views/apps/model/api.py\n",
       "\u001b[0;31mType:\u001b[0m           type\n",
       "\u001b[0;31mSubclasses:\u001b[0m     \n"
      ]
     },
     "metadata": {},
     "output_type": "display_data"
    }
   ],
   "source": [
    "views.Period?"
   ]
  },
  {
   "cell_type": "markdown",
   "metadata": {},
   "source": [
    "Or to list all the available subpackges in views type `views.` and press TAB."
   ]
  },
  {
   "cell_type": "code",
   "execution_count": 4,
   "metadata": {},
   "outputs": [
    {
     "data": {
      "text/plain": [
       "<module 'views.utils' from '/Users/frehoy/github/ViEWS2/views/utils/__init__.py'>"
      ]
     },
     "execution_count": 4,
     "metadata": {},
     "output_type": "execute_result"
    }
   ],
   "source": [
    "# Add ., press TAB.\n",
    "views.utils"
   ]
  },
  {
   "cell_type": "markdown",
   "metadata": {},
   "source": [
    "In jupyter or a configured IDE or text editor an autocomplete list should appear.\n",
    "\n",
    "Now to the structure of the `views` package"
   ]
  },
  {
   "cell_type": "markdown",
   "metadata": {},
   "source": [
    "## `__init__.py`\n",
    "\n",
    "\n",
    "When you do `import views` you are actually importing the file `views/__init__.py`.\n",
    "For details on how packages work see the [official docs](https://docs.python.org/3/tutorial/modules.html#packages).\n",
    "\n",
    "An `__init__.py` should exist in every directory that has python modules to tell python \"here is a package you can import\".\n",
    "It can be empty but a good idea is to import the package contents that you want to expose in the `__init__.py`.\n",
    "For `views` a few key features are imported in this top level `__init__.py` so that you can do"
   ]
  },
  {
   "cell_type": "code",
   "execution_count": 5,
   "metadata": {},
   "outputs": [],
   "source": [
    "from views import Model"
   ]
  },
  {
   "cell_type": "markdown",
   "metadata": {},
   "source": [
    "which is a bit nicer than the full path: "
   ]
  },
  {
   "cell_type": "code",
   "execution_count": 6,
   "metadata": {},
   "outputs": [],
   "source": [
    "from views.apps.model.api import Model"
   ]
  },
  {
   "cell_type": "markdown",
   "metadata": {},
   "source": [
    "the goal is to expose most things that people will use directly at this top level.\n",
    "Care must be taken to avoid recursive import errors though."
   ]
  },
  {
   "cell_type": "markdown",
   "metadata": {},
   "source": [
    "#### views.DATASETS\n",
    "\n",
    "`views.DATASETS` is a dictionary  holding `Dataset` objects.\n",
    "It is your one-stop-shop for data, replacing the current `flat` schema in the database.\n",
    "\n",
    "A Dataset is composed of:"
   ]
  },
  {
   "cell_type": "code",
   "execution_count": 7,
   "metadata": {},
   "outputs": [
    {
     "data": {
      "text/plain": [
       "\u001b[0;31mType:\u001b[0m        Dataset\n",
       "\u001b[0;31mString form:\u001b[0m Dataset(name='cm_africa_imp_0', ids=['month_id', 'country_id'], table_skeleton=Table(fqtable='ske <...> 87815b5a60>, <views.apps.data.api.Transform object at 0x7f87815c5b50>], balance=False, cols=None)\n",
       "\u001b[0;31mFile:\u001b[0m        ~/github/ViEWS2/views/apps/data/api.py\n",
       "\u001b[0;31mDocstring:\u001b[0m  \n",
       "Represents a dataset\n",
       "\n",
       "Args:\n",
       "    name: A descriptive name\n",
       "    ids: Identifier columns, should be 2\n",
       "    table_skeleton: Table instance of the base table to join into\n",
       "    tables: List of Tables to join in data from\n",
       "    loa: Name of level of analysis used to get correct geometry\n",
       "    transforms: List of Transforms to compute\n",
       "    balance: Whether to make a balanced index of the dataset\n",
       "    cols: List of columns to subset tables by\n"
      ]
     },
     "metadata": {},
     "output_type": "display_data"
    }
   ],
   "source": [
    "dataset = views.DATASETS[\"cm_africa_imp_0\"]\n",
    "dataset?"
   ]
  },
  {
   "cell_type": "markdown",
   "metadata": {},
   "source": [
    "To get the data from a dataset do"
   ]
  },
  {
   "cell_type": "code",
   "execution_count": 8,
   "metadata": {},
   "outputs": [
    {
     "name": "stderr",
     "output_type": "stream",
     "text": [
      "[2020-06-10 22:23:39,669] - views.utils.io:65 - DEBUG - Reading parquet at /Users/frehoy/github/ViEWS2/storage/data/datasets/cm_africa_imp_0.parquet with cols None\n",
      "[2020-06-10 22:23:43,183] - views.utils.io:72 - DEBUG - Finished reading parquet from /Users/frehoy/github/ViEWS2/storage/data/datasets/cm_africa_imp_0.parquet.\n"
     ]
    },
    {
     "data": {
      "text/html": [
       "<div>\n",
       "<style scoped>\n",
       "    .dataframe tbody tr th:only-of-type {\n",
       "        vertical-align: middle;\n",
       "    }\n",
       "\n",
       "    .dataframe tbody tr th {\n",
       "        vertical-align: top;\n",
       "    }\n",
       "\n",
       "    .dataframe thead th {\n",
       "        text-align: right;\n",
       "    }\n",
       "</style>\n",
       "<table border=\"1\" class=\"dataframe\">\n",
       "  <thead>\n",
       "    <tr style=\"text-align: right;\">\n",
       "      <th></th>\n",
       "      <th></th>\n",
       "      <th>acled_count_ns</th>\n",
       "      <th>acled_count_os</th>\n",
       "      <th>acled_count_pr</th>\n",
       "      <th>acled_count_sb</th>\n",
       "      <th>cdum_1</th>\n",
       "      <th>cdum_10</th>\n",
       "      <th>cdum_100</th>\n",
       "      <th>cdum_101</th>\n",
       "      <th>cdum_102</th>\n",
       "      <th>cdum_103</th>\n",
       "      <th>...</th>\n",
       "      <th>greq_25_splag_1_1_ged_best_ns</th>\n",
       "      <th>time_since_greq_5_splag_1_1_ged_best_ns</th>\n",
       "      <th>tlag_8_greq_1_ged_best_sb</th>\n",
       "      <th>tlag_11_greq_25_ged_best_os</th>\n",
       "      <th>tlag_12_vdem_v2xdd_i_or</th>\n",
       "      <th>greq_500_splag_1_1_ged_best_ns</th>\n",
       "      <th>time_since_greq_500_splag_1_1_ged_best_ns</th>\n",
       "      <th>tlag_6_acled_count_sb</th>\n",
       "      <th>time_since_greq_25_splag_1_1_ged_best_ns</th>\n",
       "      <th>tlag_3_greq_25_ged_best_os</th>\n",
       "    </tr>\n",
       "    <tr>\n",
       "      <th>month_id</th>\n",
       "      <th>country_id</th>\n",
       "      <th></th>\n",
       "      <th></th>\n",
       "      <th></th>\n",
       "      <th></th>\n",
       "      <th></th>\n",
       "      <th></th>\n",
       "      <th></th>\n",
       "      <th></th>\n",
       "      <th></th>\n",
       "      <th></th>\n",
       "      <th></th>\n",
       "      <th></th>\n",
       "      <th></th>\n",
       "      <th></th>\n",
       "      <th></th>\n",
       "      <th></th>\n",
       "      <th></th>\n",
       "      <th></th>\n",
       "      <th></th>\n",
       "      <th></th>\n",
       "      <th></th>\n",
       "    </tr>\n",
       "  </thead>\n",
       "  <tbody>\n",
       "    <tr>\n",
       "      <th rowspan=\"5\" valign=\"top\">400</th>\n",
       "      <th>40</th>\n",
       "      <td>0.0</td>\n",
       "      <td>0.0</td>\n",
       "      <td>0.0</td>\n",
       "      <td>0.0</td>\n",
       "      <td>0</td>\n",
       "      <td>0</td>\n",
       "      <td>0</td>\n",
       "      <td>0</td>\n",
       "      <td>0</td>\n",
       "      <td>0</td>\n",
       "      <td>...</td>\n",
       "      <td>0</td>\n",
       "      <td>1397.0</td>\n",
       "      <td>0.0</td>\n",
       "      <td>0.0</td>\n",
       "      <td>0.000</td>\n",
       "      <td>0</td>\n",
       "      <td>1397.0</td>\n",
       "      <td>0.0</td>\n",
       "      <td>1397.0</td>\n",
       "      <td>0.0</td>\n",
       "    </tr>\n",
       "    <tr>\n",
       "      <th>41</th>\n",
       "      <td>2.0</td>\n",
       "      <td>1.0</td>\n",
       "      <td>18.0</td>\n",
       "      <td>0.0</td>\n",
       "      <td>0</td>\n",
       "      <td>0</td>\n",
       "      <td>0</td>\n",
       "      <td>0</td>\n",
       "      <td>0</td>\n",
       "      <td>0</td>\n",
       "      <td>...</td>\n",
       "      <td>0</td>\n",
       "      <td>1.0</td>\n",
       "      <td>0.0</td>\n",
       "      <td>0.0</td>\n",
       "      <td>0.131</td>\n",
       "      <td>0</td>\n",
       "      <td>202.0</td>\n",
       "      <td>3.0</td>\n",
       "      <td>4.0</td>\n",
       "      <td>0.0</td>\n",
       "    </tr>\n",
       "    <tr>\n",
       "      <th>42</th>\n",
       "      <td>1.0</td>\n",
       "      <td>1.0</td>\n",
       "      <td>0.0</td>\n",
       "      <td>0.0</td>\n",
       "      <td>0</td>\n",
       "      <td>0</td>\n",
       "      <td>0</td>\n",
       "      <td>0</td>\n",
       "      <td>0</td>\n",
       "      <td>0</td>\n",
       "      <td>...</td>\n",
       "      <td>0</td>\n",
       "      <td>18.0</td>\n",
       "      <td>0.0</td>\n",
       "      <td>0.0</td>\n",
       "      <td>0.088</td>\n",
       "      <td>0</td>\n",
       "      <td>1397.0</td>\n",
       "      <td>0.0</td>\n",
       "      <td>26.0</td>\n",
       "      <td>0.0</td>\n",
       "    </tr>\n",
       "    <tr>\n",
       "      <th>43</th>\n",
       "      <td>1.0</td>\n",
       "      <td>0.0</td>\n",
       "      <td>0.0</td>\n",
       "      <td>0.0</td>\n",
       "      <td>0</td>\n",
       "      <td>0</td>\n",
       "      <td>0</td>\n",
       "      <td>0</td>\n",
       "      <td>0</td>\n",
       "      <td>0</td>\n",
       "      <td>...</td>\n",
       "      <td>0</td>\n",
       "      <td>18.0</td>\n",
       "      <td>0.0</td>\n",
       "      <td>0.0</td>\n",
       "      <td>0.736</td>\n",
       "      <td>0</td>\n",
       "      <td>1397.0</td>\n",
       "      <td>0.0</td>\n",
       "      <td>22.0</td>\n",
       "      <td>0.0</td>\n",
       "    </tr>\n",
       "    <tr>\n",
       "      <th>47</th>\n",
       "      <td>0.0</td>\n",
       "      <td>0.0</td>\n",
       "      <td>7.0</td>\n",
       "      <td>0.0</td>\n",
       "      <td>0</td>\n",
       "      <td>0</td>\n",
       "      <td>0</td>\n",
       "      <td>0</td>\n",
       "      <td>0</td>\n",
       "      <td>0</td>\n",
       "      <td>...</td>\n",
       "      <td>0</td>\n",
       "      <td>1.0</td>\n",
       "      <td>0.0</td>\n",
       "      <td>0.0</td>\n",
       "      <td>0.131</td>\n",
       "      <td>0</td>\n",
       "      <td>229.0</td>\n",
       "      <td>0.0</td>\n",
       "      <td>4.0</td>\n",
       "      <td>0.0</td>\n",
       "    </tr>\n",
       "  </tbody>\n",
       "</table>\n",
       "<p>5 rows × 6182 columns</p>\n",
       "</div>"
      ],
      "text/plain": [
       "                     acled_count_ns  acled_count_os  acled_count_pr  \\\n",
       "month_id country_id                                                   \n",
       "400      40                     0.0             0.0             0.0   \n",
       "         41                     2.0             1.0            18.0   \n",
       "         42                     1.0             1.0             0.0   \n",
       "         43                     1.0             0.0             0.0   \n",
       "         47                     0.0             0.0             7.0   \n",
       "\n",
       "                     acled_count_sb  cdum_1  cdum_10  cdum_100  cdum_101  \\\n",
       "month_id country_id                                                        \n",
       "400      40                     0.0       0        0         0         0   \n",
       "         41                     0.0       0        0         0         0   \n",
       "         42                     0.0       0        0         0         0   \n",
       "         43                     0.0       0        0         0         0   \n",
       "         47                     0.0       0        0         0         0   \n",
       "\n",
       "                     cdum_102  cdum_103  ...  greq_25_splag_1_1_ged_best_ns  \\\n",
       "month_id country_id                      ...                                  \n",
       "400      40                 0         0  ...                              0   \n",
       "         41                 0         0  ...                              0   \n",
       "         42                 0         0  ...                              0   \n",
       "         43                 0         0  ...                              0   \n",
       "         47                 0         0  ...                              0   \n",
       "\n",
       "                     time_since_greq_5_splag_1_1_ged_best_ns  \\\n",
       "month_id country_id                                            \n",
       "400      40                                           1397.0   \n",
       "         41                                              1.0   \n",
       "         42                                             18.0   \n",
       "         43                                             18.0   \n",
       "         47                                              1.0   \n",
       "\n",
       "                     tlag_8_greq_1_ged_best_sb  tlag_11_greq_25_ged_best_os  \\\n",
       "month_id country_id                                                           \n",
       "400      40                                0.0                          0.0   \n",
       "         41                                0.0                          0.0   \n",
       "         42                                0.0                          0.0   \n",
       "         43                                0.0                          0.0   \n",
       "         47                                0.0                          0.0   \n",
       "\n",
       "                     tlag_12_vdem_v2xdd_i_or  greq_500_splag_1_1_ged_best_ns  \\\n",
       "month_id country_id                                                            \n",
       "400      40                            0.000                               0   \n",
       "         41                            0.131                               0   \n",
       "         42                            0.088                               0   \n",
       "         43                            0.736                               0   \n",
       "         47                            0.131                               0   \n",
       "\n",
       "                     time_since_greq_500_splag_1_1_ged_best_ns  \\\n",
       "month_id country_id                                              \n",
       "400      40                                             1397.0   \n",
       "         41                                              202.0   \n",
       "         42                                             1397.0   \n",
       "         43                                             1397.0   \n",
       "         47                                              229.0   \n",
       "\n",
       "                     tlag_6_acled_count_sb  \\\n",
       "month_id country_id                          \n",
       "400      40                            0.0   \n",
       "         41                            3.0   \n",
       "         42                            0.0   \n",
       "         43                            0.0   \n",
       "         47                            0.0   \n",
       "\n",
       "                     time_since_greq_25_splag_1_1_ged_best_ns  \\\n",
       "month_id country_id                                             \n",
       "400      40                                            1397.0   \n",
       "         41                                               4.0   \n",
       "         42                                              26.0   \n",
       "         43                                              22.0   \n",
       "         47                                               4.0   \n",
       "\n",
       "                     tlag_3_greq_25_ged_best_os  \n",
       "month_id country_id                              \n",
       "400      40                                 0.0  \n",
       "         41                                 0.0  \n",
       "         42                                 0.0  \n",
       "         43                                 0.0  \n",
       "         47                                 0.0  \n",
       "\n",
       "[5 rows x 6182 columns]"
      ]
     },
     "execution_count": 8,
     "metadata": {},
     "output_type": "execute_result"
    }
   ],
   "source": [
    "# The magical .df attribute\n",
    "df = dataset.df.loc[400:420]\n",
    "df.head()"
   ]
  },
  {
   "cell_type": "markdown",
   "metadata": {},
   "source": [
    "## views/specs\n",
    "\n",
    "### data\n",
    "Datasets, Tables and Transforms are defined by `specs/data/spec.yaml`\n",
    "Let's take a look!"
   ]
  },
  {
   "cell_type": "code",
   "execution_count": 9,
   "metadata": {},
   "outputs": [
    {
     "name": "stdout",
     "output_type": "stream",
     "text": [
      "Datasets:\n",
      "\t cm_global_imp_0\n",
      "\t cm_global_imp_1\n",
      "\t cm_global_imp_2\n",
      "\t cm_global_imp_3\n",
      "\t cm_global_imp_4\n",
      "\t cm_africa_imp_0\n",
      "\t cm_africa_imp_1\n",
      "\t cm_africa_imp_2\n",
      "\t cm_africa_imp_3\n",
      "\t cm_africa_imp_4\n",
      "\t pgm_global_imp_0\n",
      "\t pgm_global_imp_1\n",
      "\t pgm_global_imp_2\n",
      "\t pgm_global_imp_3\n",
      "\t pgm_global_imp_4\n",
      "\t pgm_africa_imp_0\n",
      "\t pgm_africa_imp_1\n",
      "\t pgm_africa_imp_2\n",
      "\t pgm_africa_imp_3\n",
      "\t pgm_africa_imp_4\n",
      "Tables\n",
      "\t skeleton.cm_africa\n",
      "\t skeleton.cm_global\n",
      "\t skeleton.cy_africa\n",
      "\t skeleton.cy_global\n",
      "\t skeleton.pgm_africa\n",
      "\t skeleton.pgm_global\n",
      "\t skeleton.pgy_africa\n",
      "\t skeleton.pgy_global\n",
      "\t acled.cm\n",
      "\t acled.pgm\n",
      "\t cdum.c\n",
      "\t fvp_v2.cy_imp_sklearn_0\n",
      "\t fvp_v2.cy_imp_sklearn_1\n",
      "\t fvp_v2.cy_imp_sklearn_2\n",
      "\t fvp_v2.cy_imp_sklearn_3\n",
      "\t fvp_v2.cy_imp_sklearn_4\n",
      "\t ged.cm\n",
      "\t ged.pgm_geoimp_0\n",
      "\t ged.pgm_geoimp_1\n",
      "\t ged.pgm_geoimp_2\n",
      "\t ged.pgm_geoimp_3\n",
      "\t ged.pgm_geoimp_4\n",
      "\t icgcw_v2.cm\n",
      "\t pgdata.pgy_imp_sklearn_0\n",
      "\t pgdata.pgy_imp_sklearn_1\n",
      "\t pgdata.pgy_imp_sklearn_2\n",
      "\t pgdata.pgy_imp_sklearn_3\n",
      "\t pgdata.pgy_imp_sklearn_4\n",
      "\t reign_v2.cm_extrapolated\n",
      "\t spei_v2.pgm\n",
      "\t vdem_v10.cy_imp_sklearn_0_part_1\n",
      "\t vdem_v10.cy_imp_sklearn_0_part_2\n",
      "\t vdem_v10.cy_imp_sklearn_0_part_3\n",
      "\t vdem_v10.cy_imp_sklearn_1_part_1\n",
      "\t vdem_v10.cy_imp_sklearn_1_part_2\n",
      "\t vdem_v10.cy_imp_sklearn_1_part_3\n",
      "\t vdem_v10.cy_imp_sklearn_2_part_1\n",
      "\t vdem_v10.cy_imp_sklearn_2_part_2\n",
      "\t vdem_v10.cy_imp_sklearn_2_part_3\n",
      "\t vdem_v10.cy_imp_sklearn_3_part_1\n",
      "\t vdem_v10.cy_imp_sklearn_3_part_2\n",
      "\t vdem_v10.cy_imp_sklearn_3_part_3\n",
      "\t vdem_v10.cy_imp_sklearn_4_part_1\n",
      "\t vdem_v10.cy_imp_sklearn_4_part_2\n",
      "\t vdem_v10.cy_imp_sklearn_4_part_3\n",
      "\t wdi_202005.cy_imp_sklearn_0_part_1\n",
      "\t wdi_202005.cy_imp_sklearn_0_part_2\n",
      "\t wdi_202005.cy_imp_sklearn_1_part_1\n",
      "\t wdi_202005.cy_imp_sklearn_1_part_2\n",
      "\t wdi_202005.cy_imp_sklearn_2_part_1\n",
      "\t wdi_202005.cy_imp_sklearn_2_part_2\n",
      "\t wdi_202005.cy_imp_sklearn_3_part_1\n",
      "\t wdi_202005.cy_imp_sklearn_3_part_2\n",
      "\t wdi_202005.cy_imp_sklearn_4_part_1\n",
      "\t wdi_202005.cy_imp_sklearn_4_part_2\n"
     ]
    }
   ],
   "source": [
    "from views.specs import data\n",
    "print(\"Datasets:\")\n",
    "for name in data.DATASETS.keys():\n",
    "    print(\"\\t\", name)\n",
    "print(\"Tables\")\n",
    "for name in data.TABLES.keys():\n",
    "    print(\"\\t\", name)"
   ]
  },
  {
   "cell_type": "markdown",
   "metadata": {},
   "source": [
    "### periods\n",
    "\n",
    "Defines A, B, C, train test splits by run_id."
   ]
  },
  {
   "cell_type": "code",
   "execution_count": 10,
   "metadata": {},
   "outputs": [
    {
     "name": "stderr",
     "output_type": "stream",
     "text": [
      "[2020-06-10 22:23:43,221] - views.utils.io:107 - DEBUG - Loading YAML from /Users/frehoy/github/ViEWS2/views/specs/periods/periods.yaml\n"
     ]
    },
    {
     "data": {
      "text/plain": [
       "{'A': Period(name='A', train_start=121, train_end=396, predict_start=397, predict_end=432),\n",
       " 'B': Period(name='B', train_start=121, train_end=432, predict_start=433, predict_end=468),\n",
       " 'C': Period(name='C', train_start=121, train_end=480, predict_start=484, predict_end=521)}"
      ]
     },
     "execution_count": 10,
     "metadata": {},
     "output_type": "execute_result"
    }
   ],
   "source": [
    "from views.specs.periods import get_periods_by_name\n",
    "periods = get_periods_by_name(run_id=\"d_2020_05_01_prelim\")\n",
    "periods"
   ]
  },
  {
   "cell_type": "markdown",
   "metadata": {},
   "source": [
    "### models - development\n",
    "\n",
    "Lets hop to `projects/model_development/example.ipynb`"
   ]
  },
  {
   "cell_type": "markdown",
   "metadata": {},
   "source": [
    "### models - production\n",
    "Ok, now we've seen how models are specified in development. \n",
    "\n",
    "What about production?\n",
    "\n",
    "Lets hop to `views/apps/pipeline/models_cm.py`\n",
    "\n",
    "And `views/specs/models/cm.yaml`"
   ]
  },
  {
   "cell_type": "markdown",
   "metadata": {},
   "source": [
    "## Data updates\n",
    "\n",
    "Beceause data is stored in this normalised way updating from the database is a two-step process:"
   ]
  },
  {
   "cell_type": "code",
   "execution_count": 11,
   "metadata": {},
   "outputs": [],
   "source": [
    "# Don't actually run as it takes a few hours\n",
    "if False:\n",
    "    for table in views.TABLES.values():\n",
    "        table.refresh()\n",
    "    for dataset in views.DATASETS.values():\n",
    "        dataset.refresh()\n",
    "        "
   ]
  },
  {
   "cell_type": "code",
   "execution_count": 12,
   "metadata": {},
   "outputs": [],
   "source": [
    "# For members of the public, to update tables do\n",
    "if False:\n",
    "    # Fetch .zipped tables and update cache\n",
    "    views.apps.data.public.import_tables_and_geoms(\n",
    "        tables = views.TABLES, \n",
    "        geometries = views.GEOMETRIES, \n",
    "        path_zip = views.apps.data.public.fetch_latest_zip_from_website(\n",
    "            path_dir_destination=views.DIR_SCRATCH\n",
    "        ),\n",
    "    )\n",
    "    # Update datasets\n",
    "    for dataset in views.DATASETS.values():\n",
    "        dataset.refresh()\n",
    "    "
   ]
  },
  {
   "cell_type": "markdown",
   "metadata": {},
   "source": [
    "The above should normally be run by the dedicated script \n",
    "\n",
    "    `python runners/refresh_data.py --all` \n",
    "\n",
    "for ViEWS team or \n",
    "\n",
    "    `python runners/import_data --fetch --datasets`\n",
    "\n",
    "for the public."
   ]
  },
  {
   "cell_type": "markdown",
   "metadata": {},
   "source": [
    "## views/utils\n",
    "\n",
    "`from views.utils import io, db, data as datautils, stats as statsutils`\n",
    "\n",
    "The utils folder holds a few modules for dealing with io, data and database connectivity.\n",
    "\n",
    "One particularly important function is `assign_into_df`:\n",
    "\n",
    "    `from views.utils.data import assign_into_df`\n",
    "    `assign_into_df?`\n",
    "\n",
    "As it lets you insert data into the same column multiple times without overwriting previously insert values with missingness.\n",
    "\n",
    "\n",
    "## views/database\n",
    "\n",
    "Everything related to maintaining the database goes here.\n",
    "\"Clients\" shouldn't need to use this at all.\n"
   ]
  },
  {
   "cell_type": "markdown",
   "metadata": {},
   "source": []
  }
 ],
 "metadata": {
  "kernelspec": {
   "display_name": "Python 3",
   "language": "python",
   "name": "python3"
  },
  "language_info": {
   "codemirror_mode": {
    "name": "ipython",
    "version": 3
   },
   "file_extension": ".py",
   "mimetype": "text/x-python",
   "name": "python",
   "nbconvert_exporter": "python",
   "pygments_lexer": "ipython3",
   "version": "3.8.0"
  }
 },
 "nbformat": 4,
 "nbformat_minor": 4
}

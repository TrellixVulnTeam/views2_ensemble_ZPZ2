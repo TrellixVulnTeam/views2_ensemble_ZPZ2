{
 "cells": [
  {
   "cell_type": "markdown",
   "metadata": {},
   "source": [
    "# New model interface example\n",
    "\n",
    "This notebook aims to show how to use the new ViEWS2 modelling interface.\n",
    "\n",
    "Todo:\n",
    "* Map plot at the end"
   ]
  },
  {
   "cell_type": "code",
   "execution_count": 1,
   "metadata": {},
   "outputs": [],
   "source": [
    "# Logging imports\n",
    "import json\n",
    "import logging\n",
    "import views\n",
    "\n",
    "logging.basicConfig(\n",
    "    level=logging.DEBUG,\n",
    "    #level=logging.INFO, # uncomment this and comment debug above for less yelling in red\n",
    "    format=views.config.LOGFMT,\n",
    ")"
   ]
  },
  {
   "cell_type": "code",
   "execution_count": 2,
   "metadata": {},
   "outputs": [],
   "source": [
    "# DATASETS is a dictionary of Dataset objects.\n",
    "from views import DATASETS\n",
    "# These are the building blocks of the modelling interface\n",
    "from views import Ensemble, Model, Downsampling, Period\n",
    "# These are model specifications from the specfiles\n",
    "from views.specs.models import cm as model_specs_cm, pgm as model_specs_pgm\n",
    "from views.specs.periods import get_periods, get_periods_by_name\n",
    "# Utils\n",
    "from views.utils import db, io, data as datautils\n",
    "from views.utils.data import assign_into_df"
   ]
  },
  {
   "cell_type": "code",
   "execution_count": 3,
   "metadata": {},
   "outputs": [
    {
     "name": "stderr",
     "output_type": "stream",
     "text": [
      "[2020-11-20 17:01:27,019] - views.utils.io:107 - DEBUG - Loading YAML from /home/kyle/code/Views2/OpenViEWS2/views/specs/periods/periods.yaml\n",
      "[2020-11-20 17:01:27,073] - views.utils.io:107 - DEBUG - Loading YAML from /home/kyle/code/Views2/OpenViEWS2/views/specs/periods/periods.yaml\n"
     ]
    }
   ],
   "source": [
    "# These are the core models defined in the ViEWS pipeline\n",
    "# These are defined in \n",
    "from views.apps.pipeline.models_cm import all_cm_models_by_name\n",
    "from views.apps.pipeline.models_pgm import all_pgm_models_by_name"
   ]
  },
  {
   "cell_type": "code",
   "execution_count": null,
   "metadata": {},
   "outputs": [],
   "source": [
    "from sklearn.ensemble import RandomForestClassifier, RandomForestRegressor"
   ]
  },
  {
   "cell_type": "code",
   "execution_count": 4,
   "metadata": {},
   "outputs": [
    {
     "name": "stdout",
     "output_type": "stream",
     "text": [
      "cm_global_imp_0\n",
      "cm_global_imp_1\n",
      "cm_global_imp_2\n",
      "cm_global_imp_3\n",
      "cm_global_imp_4\n",
      "cm_africa_imp_0\n",
      "cm_africa_imp_1\n",
      "cm_africa_imp_2\n",
      "cm_africa_imp_3\n",
      "cm_africa_imp_4\n",
      "pgm_global_imp_0\n",
      "pgm_global_imp_1\n",
      "pgm_global_imp_2\n",
      "pgm_global_imp_3\n",
      "pgm_global_imp_4\n",
      "pgm_africa_imp_0\n",
      "pgm_africa_imp_1\n",
      "pgm_africa_imp_2\n",
      "pgm_africa_imp_3\n",
      "pgm_africa_imp_4\n"
     ]
    }
   ],
   "source": [
    "# Show the available datasets we have specified\n",
    "for name, dataset in DATASETS.items():\n",
    "    print(name)\n",
    "    "
   ]
  },
  {
   "cell_type": "code",
   "execution_count": null,
   "metadata": {},
   "outputs": [],
   "source": [
    "# Do you wish to fetch the latest public data? If so, change False to True and run this cell\n",
    "# Cells below will fail if this is not run if you haven't imported data yourself yet.\n",
    "if False:\n",
    "    path_zip = views.apps.data.public.fetch_latest_zip_from_website(path_dir_destination=views.DIR_SCRATCH)\n",
    "    views.apps.data.public.import_tables_and_geoms(tables=views.TABLES, geometries=views.GEOMETRIES, path_zip=path_zip)"
   ]
  },
  {
   "cell_type": "code",
   "execution_count": null,
   "metadata": {},
   "outputs": [],
   "source": [
    "# Get the dataframe for a particular dataset. \n",
    "# If it doesn't exist cached on your machine it will be fetched from db and transforms computed for you\n",
    "# Datasets are defined in views/specs/data/\n",
    "dataset = views.DATASETS[\"cm_africa_imp_0\"]"
   ]
  },
  {
   "cell_type": "code",
   "execution_count": null,
   "metadata": {},
   "outputs": [],
   "source": [
    "# Change False to True to rebuild this datasest if you have updated tables\n",
    "if False:\n",
    "    dataset.refresh()"
   ]
  },
  {
   "cell_type": "code",
   "execution_count": null,
   "metadata": {},
   "outputs": [],
   "source": [
    "# Get the actual dataframe\n",
    "df = dataset.df\n",
    "df.head()"
   ]
  },
  {
   "cell_type": "code",
   "execution_count": null,
   "metadata": {},
   "outputs": [],
   "source": [
    "# Used for looking up periods\n",
    "# d is for development\n",
    "run_id = \"d_2020_04_01\""
   ]
  },
  {
   "cell_type": "code",
   "execution_count": null,
   "metadata": {},
   "outputs": [],
   "source": [
    "# Periods are defined as simple Period objects with 4 attributes, train/predict_start/end\n",
    "# Models expect a list of Periods so they know which training times to use\n",
    "# and which times to make predictions for\n",
    "periods = get_periods(run_id) # as a list\n",
    "periods_by_name = get_periods_by_name(run_id) # as a dict\n",
    "period_a = periods_by_name[\"A\"]\n",
    "period_b = periods_by_name[\"B\"]\n",
    "period_c = periods_by_name[\"C\"]"
   ]
  },
  {
   "cell_type": "code",
   "execution_count": null,
   "metadata": {},
   "outputs": [],
   "source": [
    "# You can also define periods yourself\n",
    "period_custom = Period(name=\"A\", train_start=201, train_end=396, predict_start=397, predict_end=432)"
   ]
  },
  {
   "cell_type": "code",
   "execution_count": null,
   "metadata": {},
   "outputs": [],
   "source": [
    "Model?"
   ]
  },
  {
   "cell_type": "code",
   "execution_count": null,
   "metadata": {},
   "outputs": [],
   "source": [
    "steps = [1, 12, 24, 36]\n",
    "downsampling_10pct = Downsampling(share_positive=1.0, share_negative=0.1)"
   ]
  },
  {
   "cell_type": "code",
   "execution_count": null,
   "metadata": {},
   "outputs": [],
   "source": [
    "features_a = [\"time_since_ged_dummy_sb\", \"time_since_ged_dummy_ns\", \"time_since_ged_dummy_os\"]\n",
    "my_model = Model(\n",
    "    name = \"cm_sb_mymodel\", \n",
    "    col_outcome = \"greq_25_ged_best_sb\", \n",
    "    cols_features = features_a,\n",
    "    steps = steps,\n",
    "    periods = periods,\n",
    "    outcome_type = \"prob\",\n",
    "    estimator = RandomForestClassifier(n_jobs=-1, n_estimators=100),\n",
    "    tags=[\"sb\"]\n",
    ")\n",
    "\n",
    "my_downsampled_model = Model(\n",
    "    name = \"cm_sb_mymodel_downsampled\", \n",
    "    col_outcome = \"greq_25_ged_best_sb\", \n",
    "    cols_features = features_a,\n",
    "    steps = steps,\n",
    "    periods = periods,\n",
    "    outcome_type = \"prob\",\n",
    "    downsampling=downsampling_10pct,\n",
    "    estimator = RandomForestClassifier(n_jobs=-1, n_estimators=100),\n",
    "    tags=[\"sb\", \"downsampled\"]\n",
    ")\n",
    "\n",
    "# Notice how the col_outcome is the same\n",
    "# The model itself does the onset transformation\n",
    "# and subsets the training data itself\n",
    "# Also transforms outcome col for calibration\n",
    "# Evaluation and predicting not affected by onset yet\n",
    "my_onsetmodel = Model(\n",
    "    name = \"cm_sb_onset_mymodel\",\n",
    "    col_outcome = \"greq_25_ged_best_sb\",\n",
    "    cols_features = features_a,\n",
    "    steps=steps,\n",
    "    periods=periods,\n",
    "    outcome_type = \"prob\",\n",
    "    estimator = RandomForestClassifier(n_jobs=-1, n_estimators=100),\n",
    "    onset_outcome=True, # <-- Onset switch\n",
    "    onset_window=24, # <-- Must be accompanied by an onset time window\n",
    "    tags=[\"sb\", \"onset\"]\n",
    ")\n",
    "\n",
    "my_delta_model = Model(\n",
    "    name=\"delta_force\",\n",
    "    col_outcome=\"ged_best_sb\",\n",
    "    cols_features=features_a,\n",
    "    steps=steps,\n",
    "    periods=periods,\n",
    "    outcome_type=\"real\",\n",
    "    delta_outcome=True,\n",
    "    tags=[\"delta\"]\n",
    ")"
   ]
  },
  {
   "cell_type": "code",
   "execution_count": 7,
   "metadata": {},
   "outputs": [
    {
     "name": "stdout",
     "output_type": "stream",
     "text": [
      "dict_keys(['pgm_sb_allthemes', 'pgm_sb_pgd_natural', 'pgm_sb_pgd_social', 'pgm_sb_inst', 'pgm_sb_demog', 'pgm_sb_oil', 'pgm_sb_hist_legacy', 'pgm_sb_speisubset_leghist', 'pgm_ns_allthemes', 'pgm_ns_pgd_natural', 'pgm_ns_pgd_social', 'pgm_ns_inst', 'pgm_ns_demog', 'pgm_ns_oil', 'pgm_ns_hist_legacy', 'pgm_ns_speisubset_leghist', 'pgm_os_allthemes', 'pgm_os_pgd_natural', 'pgm_os_pgd_social', 'pgm_os_inst', 'pgm_os_demog', 'pgm_os_oil', 'pgm_os_hist_legacy', 'pgm_os_speisubset_leghist', 'pgm_pr_allthemes', 'pgm_pr_pgd_natural', 'pgm_pr_pgd_social', 'pgm_pr_inst', 'pgm_pr_demog', 'pgm_pr_oil', 'pgm_pr_hist_legacy', 'pgm_sb_sptime', 'pgm_ns_sptime', 'pgm_os_sptime', 'pgm_pr_sptime', 'pgm_sb_spei_full', 'pgm_ns_spei_full', 'pgm_os_spei_full', 'pgm_pr_spei_full', 'pgm_sb_sptime_and_all_themes', 'pgm_ns_sptime_and_all_themes', 'pgm_os_sptime_and_all_themes', 'pgm_pr_sptime_and_all_themes', 'pgm_sb_all', 'pgm_ns_all', 'pgm_os_all', 'pgm_sb_onset24_1_all', 'pgm_sb_onset24_5_all', 'pgm_sb_onset24_100_all', 'pgm_ns_onset24_1_all', 'pgm_ns_onset24_5_all', 'pgm_ns_onset24_100_all', 'pgm_os_onset24_1_all', 'pgm_os_onset24_5_all', 'pgm_os_onset24_100_all'])\n"
     ]
    },
    {
     "data": {
      "text/plain": [
       "{\n",
       "  \"name\": \"cm_sb_icgcw\",\n",
       "  \"col_outcome\": \"greq_25_ged_best_sb\",\n",
       "  \"cols_features\": [\n",
       "    \"icgcw_alerts\",\n",
       "    \"icgcw_deteriorated\",\n",
       "    \"icgcw_improved\",\n",
       "    \"icgcw_opportunities\",\n",
       "    \"icgcw_unobserved\"\n",
       "  ],\n",
       "  \"steps\": [\n",
       "    1,\n",
       "    3,\n",
       "    6,\n",
       "    9,\n",
       "    12,\n",
       "    18,\n",
       "    24,\n",
       "    30,\n",
       "    36,\n",
       "    38\n",
       "  ],\n",
       "  \"periods\": [\n",
       "    {\n",
       "      \"name\": \"A\",\n",
       "      \"train_start\": 121,\n",
       "      \"train_end\": 396,\n",
       "      \"predict_start\": 397,\n",
       "      \"predict_end\": 432\n",
       "    },\n",
       "    {\n",
       "      \"name\": \"B\",\n",
       "      \"train_start\": 121,\n",
       "      \"train_end\": 432,\n",
       "      \"predict_start\": 433,\n",
       "      \"predict_end\": 468\n",
       "    },\n",
       "    {\n",
       "      \"name\": \"C\",\n",
       "      \"train_start\": 121,\n",
       "      \"train_end\": 480,\n",
       "      \"predict_start\": 483,\n",
       "      \"predict_end\": 520\n",
       "    }\n",
       "  ],\n",
       "  \"outcome_type\": \"prob\",\n",
       "  \"estimators\": {\n",
       "    \"name\": \"cm_sb_icgcw\",\n",
       "    \"initial_estimator\": {\n",
       "      \"base_estimator\": {\n",
       "        \"criterion\": \"gini\",\n",
       "        \"splitter\": \"best\",\n",
       "        \"max_depth\": null,\n",
       "        \"min_samples_split\": 2,\n",
       "        \"min_samples_leaf\": 1,\n",
       "        \"min_weight_fraction_leaf\": 0.0,\n",
       "        \"max_features\": null,\n",
       "        \"max_leaf_nodes\": null,\n",
       "        \"random_state\": null,\n",
       "        \"min_impurity_decrease\": 0.0,\n",
       "        \"min_impurity_split\": null,\n",
       "        \"class_weight\": null,\n",
       "        \"presort\": \"deprecated\",\n",
       "        \"ccp_alpha\": 0.0\n",
       "      },\n",
       "      \"n_estimators\": 10000,\n",
       "      \"estimator_params\": [\n",
       "        \"criterion\",\n",
       "        \"max_depth\",\n",
       "        \"min_samples_split\",\n",
       "        \"min_samples_leaf\",\n",
       "        \"min_weight_fraction_leaf\",\n",
       "        \"max_features\",\n",
       "        \"max_leaf_nodes\",\n",
       "        \"min_impurity_decrease\",\n",
       "        \"min_impurity_split\",\n",
       "        \"random_state\",\n",
       "        \"ccp_alpha\"\n",
       "      ],\n",
       "      \"bootstrap\": true,\n",
       "      \"oob_score\": false,\n",
       "      \"n_jobs\": -1,\n",
       "      \"random_state\": null,\n",
       "      \"verbose\": 0,\n",
       "      \"warm_start\": false,\n",
       "      \"class_weight\": null,\n",
       "      \"max_samples\": null,\n",
       "      \"criterion\": \"gini\",\n",
       "      \"max_depth\": null,\n",
       "      \"min_samples_split\": 2,\n",
       "      \"min_samples_leaf\": 1,\n",
       "      \"min_weight_fraction_leaf\": 0.0,\n",
       "      \"max_features\": \"auto\",\n",
       "      \"max_leaf_nodes\": null,\n",
       "      \"min_impurity_decrease\": 0.0,\n",
       "      \"min_impurity_split\": null,\n",
       "      \"ccp_alpha\": 0.0\n",
       "    },\n",
       "    \"dir_storage\": \"/home/kyle/code/Views2/OpenViEWS2/storage/models\"\n",
       "  },\n",
       "  \"downsampling\": {\n",
       "    \"share_positive\": 1.0,\n",
       "    \"share_negative\": 1.0,\n",
       "    \"threshold\": 0\n",
       "  },\n",
       "  \"delta_outcome\": false,\n",
       "  \"dir_storage\": \"/home/kyle/code/Views2/OpenViEWS2/storage\",\n",
       "  \"tags\": [\n",
       "    \"train_africa\"\n",
       "  ],\n",
       "  \"onset_outcome\": false,\n",
       "  \"onset_window\": null\n",
       "}"
      ]
     },
     "execution_count": 7,
     "metadata": {},
     "output_type": "execute_result"
    }
   ],
   "source": [
    "# Models can also be loaded from the definition in the pipeline\n",
    "print(all_pgm_models_by_name.keys())\n",
    "model_from_pipeline_spec = all_cm_models_by_name[\"cm_sb_icgcw\"]\n",
    "# Just printing the object should show everything we care about\n",
    "model_from_pipeline_spec"
   ]
  },
  {
   "cell_type": "code",
   "execution_count": null,
   "metadata": {},
   "outputs": [],
   "source": [
    "# Lists of models are convenient\n",
    "models = [my_model, my_downsampled_model, my_onsetmodel, model_from_pipeline_spec]\n",
    "models = [my_model, my_downsampled_model, my_onsetmodel]\n",
    "\n",
    "\n",
    "my_avg_ensemble = Ensemble(\n",
    "    name=\"my_avg_ensemble\", \n",
    "    models=models, \n",
    "    outcome_type=\"prob\", \n",
    "    col_outcome=\"greq_25_ged_best_sb\", \n",
    "    method=\"average\", \n",
    "    periods=periods\n",
    ")\n",
    "my_ebma_ensemble = Ensemble(\n",
    "    name=\"my_ebma_ensemble\", \n",
    "    models=models, \n",
    "    outcome_type=\"prob\", \n",
    "    col_outcome=\"greq_25_ged_best_sb\", \n",
    "    method=\"ebma\", \n",
    "    periods=periods\n",
    ")\n",
    "\n",
    "ensembles = [my_avg_ensemble]\n",
    "# When R installation and EBMA setup are part of the standard installer:\n",
    "# include the EBMA ensemble here\n",
    "#ensembles = [my_avg_ensemble, my_ebma_ensemble]"
   ]
  },
  {
   "cell_type": "code",
   "execution_count": null,
   "metadata": {},
   "outputs": [],
   "source": [
    "%%time\n",
    "# Fit estimator for their specified steps and periods \n",
    "# Estimators are stored on disk with only a reference in the model object\n",
    "# This could be omitted after the first run of the notebook\n",
    "for model in models:\n",
    "    model.fit_estimators(df , populate_extras = False)"
   ]
  },
  {
   "cell_type": "code",
   "execution_count": null,
   "metadata": {},
   "outputs": [],
   "source": [
    "# Predict and store predictions for their specified steps and periods in df\n",
    "for model in models:\n",
    "    \n",
    "    # Uncalibrated predictions\n",
    "    df_pred = model.predict(df)\n",
    "    # assign_into_df takes care to only overwrite rows with actual values\n",
    "    # This way we can keep all periods in the same df\n",
    "    # It's also idempotent, no joining, so run as many times as you like. \n",
    "    df = assign_into_df(df_to=df, df_from=df_pred)\n",
    "    \n",
    "    # Calibrated predictions\n",
    "    df_pred = model.predict_calibrated(\n",
    "        df=df, \n",
    "        period_calib=period_a,\n",
    "        period_test=period_b,\n",
    "    )\n",
    "    df = assign_into_df(df_to=df, df_from=df_pred)\n",
    "    df_pred = model.predict_calibrated(\n",
    "        df=df, \n",
    "        period_calib=period_b,\n",
    "        period_test=period_c,\n",
    "    )\n",
    "    df = assign_into_df(df_to=df, df_from=df_pred)"
   ]
  },
  {
   "cell_type": "code",
   "execution_count": null,
   "metadata": {},
   "outputs": [],
   "source": [
    "for ensemble in ensembles:\n",
    "    df_pred = ensemble.predict(\n",
    "        df=df,\n",
    "        period_calib=period_a,\n",
    "        period_test=period_b,\n",
    "    )\n",
    "    df = assign_into_df(df_to=df, df_from=df_pred)\n",
    "    df_pred = ensemble.predict(\n",
    "        df=df,\n",
    "        period_calib=period_b,\n",
    "        period_test=period_c,\n",
    "    )\n",
    "    df = assign_into_df(df_to=df, df_from=df_pred)\n",
    "    \n",
    "    "
   ]
  },
  {
   "cell_type": "code",
   "execution_count": null,
   "metadata": {},
   "outputs": [],
   "source": [
    "# Evaluate all models\n",
    "for model in models:\n",
    "    model.evaluate(df)"
   ]
  },
  {
   "cell_type": "code",
   "execution_count": null,
   "metadata": {},
   "outputs": [],
   "source": [
    "# Evaluate all ensembles, limit to B and C. \n",
    "# In future evaluate will figure out itself where it has predictions to evaluate and this will be just one call.\n",
    "for ensemble in ensembles:\n",
    "    ensemble.evaluate(df, period=periods_by_name[\"B\"])\n",
    "    ensemble.evaluate(df, period=periods_by_name[\"C\"])"
   ]
  },
  {
   "cell_type": "code",
   "execution_count": null,
   "metadata": {},
   "outputs": [],
   "source": [
    "for model in models:\n",
    "    print(model.name)\n",
    "    #print(model.scores)\n",
    "    print(\"EVAL SCORES:\")\n",
    "    print(json.dumps(model.scores, indent=2))\n",
    "    print(\"FEATURE_IMPORTANCES\")\n",
    "    print(json.dumps(model.extras.feature_importances, indent=2))\n",
    "    print(\"#\"*80)\n",
    "    "
   ]
  },
  {
   "cell_type": "code",
   "execution_count": null,
   "metadata": {},
   "outputs": [],
   "source": [
    "# Ignore the uncalibrated scores, they are identical to calibrated.\n",
    "# Evaluation needs a bit of a refactor\n",
    "for ensemble in ensembles:\n",
    "    print(ensemble.name)\n",
    "    print(\"Weights:\")\n",
    "    print(json.dumps(ensemble.weights, indent=2))\n",
    "    print(\"Eval scores:\")\n",
    "    print(json.dumps(ensemble.evaluation.scores, indent=2))\n",
    "    print(\"#\"*80)"
   ]
  },
  {
   "cell_type": "code",
   "execution_count": null,
   "metadata": {},
   "outputs": [],
   "source": [
    "# Access individual eval scores like a dict\n",
    "print(models[0].name)\n",
    "# Period B step 1\n",
    "models[0].scores[\"B\"][1]"
   ]
  },
  {
   "cell_type": "code",
   "execution_count": null,
   "metadata": {},
   "outputs": [],
   "source": [
    "# Notice all features and predictions in the same dataframe, no more a/b/c \n",
    "# Instead we subset by the periods when needed\n",
    "\n",
    "cols_predict = [model.col_sc_calibrated for model in models] + [ensemble.col_sc for ensemble in ensembles]\n",
    "\n",
    "# All calibrated predictions for period C\n",
    "df.loc[period_c.times_predict, cols_predict]"
   ]
  },
  {
   "cell_type": "code",
   "execution_count": null,
   "metadata": {},
   "outputs": [],
   "source": [
    "estimator_a_1 = my_downsampled_model.estimators.get(period_name=\"A\", step=1)\n",
    "estimator_a_1"
   ]
  },
  {
   "cell_type": "code",
   "execution_count": null,
   "metadata": {},
   "outputs": [],
   "source": [
    "my_downsampled_model.extras.feature_importances"
   ]
  }
 ],
 "metadata": {
  "kernelspec": {
   "display_name": "Python 3",
   "language": "python",
   "name": "python3"
  },
  "language_info": {
   "codemirror_mode": {
    "name": "ipython",
    "version": 3
   },
   "file_extension": ".py",
   "mimetype": "text/x-python",
   "name": "python",
   "nbconvert_exporter": "python",
   "pygments_lexer": "ipython3",
   "version": "3.8.0"
  }
 },
 "nbformat": 4,
 "nbformat_minor": 4
}

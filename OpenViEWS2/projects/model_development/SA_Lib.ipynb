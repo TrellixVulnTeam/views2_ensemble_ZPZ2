{
 "cells": [
  {
   "cell_type": "code",
   "execution_count": null,
   "metadata": {},
   "outputs": [],
   "source": [
    "import json\n",
    "import logging\n",
    "import views\n",
    "\n",
    "logging.basicConfig(\n",
    "    level=logging.DEBUG,\n",
    "    #level=logging.INFO, # uncomment this and comment debug above for less yelling in red\n",
    "    format=views.config.LOGFMT,\n",
    ")\n",
    "import pandas as pd\n",
    "# DATASETS is a dictionary of Dataset objects.\n",
    "from views import DATASETS\n",
    "# These are the building blocks of the modelling interface\n",
    "from views import Ensemble, Model, Downsampling, Period\n",
    "# These are model specifications from the specfiles\n",
    "from views.specs.models import cm as model_specs_cm, pgm as model_specs_pgm\n",
    "from views.specs.periods import get_periods, get_periods_by_name\n",
    "# Utils\n",
    "from views.utils import db, io, data as datautils\n",
    "from views.utils.data import assign_into_df\n",
    "from views.apps.pipeline.models_cm import all_cm_models_by_name\n",
    "from views.apps.pipeline.models_pgm import all_pgm_models_by_name\n",
    "from sklearn.ensemble import RandomForestClassifier, RandomForestRegressor"
   ]
  },
  {
   "cell_type": "code",
   "execution_count": 1,
   "metadata": {},
   "outputs": [],
   "source": [
    "from SALib.sample import saltelli\n",
    "from SALib.analyze import sobol\n",
    "from SALib.test_functions import Ishigami\n",
    "import numpy as np"
   ]
  },
  {
   "cell_type": "code",
   "execution_count": 8,
   "metadata": {},
   "outputs": [
    {
     "name": "stdout",
     "output_type": "stream",
     "text": [
      "Parameter S1 S1_conf ST ST_conf\n",
      "x1 0.307975 0.066360 0.560137 0.078083\n",
      "x2 0.447767 0.060502 0.438722 0.041146\n",
      "x3 -0.004255 0.067962 0.242845 0.027428\n",
      "\n",
      "Parameter_1 Parameter_2 S2 S2_conf\n",
      "x1 x2 0.012205 0.078062\n",
      "x1 x3 0.251526 0.112773\n",
      "x2 x3 -0.009954 0.064969\n",
      "[ 0.30797549  0.44776661 -0.00425452]\n"
     ]
    }
   ],
   "source": [
    "problem = {\n",
    "    'num_vars': 3,\n",
    "    'names': ['x1', 'x2', 'x3'],\n",
    "    'bounds': [[-3.14159265359, 3.14159265359],\n",
    "               [-3.14159265359, 3.14159265359],\n",
    "               [-3.14159265359, 3.14159265359]]\n",
    "}\n",
    "\n",
    "# Generate samples\n",
    "param_values = saltelli.sample(problem, 1000)\n",
    "\n",
    "# Run model (example)\n",
    "Y = Ishigami.evaluate(param_values)\n",
    "\n",
    "# # Perform analysis\n",
    "Si = sobol.analyze(problem, Y, print_to_console=True)\n",
    "\n",
    "# # Print the first-order sensitivity indices\n",
    "print(Si['S1'])"
   ]
  },
  {
   "cell_type": "code",
   "execution_count": null,
   "metadata": {},
   "outputs": [],
   "source": [
    "dataset = views.DATASETS[\"cm_africa_imp_0\"]\n",
    "df = dataset.df\n",
    "df2=df.copy()"
   ]
  }
 ],
 "metadata": {
  "kernelspec": {
   "display_name": "Python 3",
   "language": "python",
   "name": "python3"
  },
  "language_info": {
   "codemirror_mode": {
    "name": "ipython",
    "version": 3
   },
   "file_extension": ".py",
   "mimetype": "text/x-python",
   "name": "python",
   "nbconvert_exporter": "python",
   "pygments_lexer": "ipython3",
   "version": "3.8.0"
  }
 },
 "nbformat": 4,
 "nbformat_minor": 4
}
